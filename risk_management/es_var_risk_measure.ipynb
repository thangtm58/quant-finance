{
 "cells": [
  {
   "cell_type": "code",
   "execution_count": 110,
   "id": "5344e430-f9f0-48a6-b283-28441118164c",
   "metadata": {},
   "outputs": [],
   "source": [
    "# Required libraries\n",
    "import pandas as pd\n",
    "import numpy as np\n",
    "import scipy as sp\n",
    "import math\n",
    "from scipy import stats"
   ]
  },
  {
   "cell_type": "code",
   "execution_count": 111,
   "id": "979c68d2-dadc-4f52-aaa2-59fff2011923",
   "metadata": {},
   "outputs": [
    {
     "data": {
      "text/html": [
       "<div>\n",
       "<style scoped>\n",
       "    .dataframe tbody tr th:only-of-type {\n",
       "        vertical-align: middle;\n",
       "    }\n",
       "\n",
       "    .dataframe tbody tr th {\n",
       "        vertical-align: top;\n",
       "    }\n",
       "\n",
       "    .dataframe thead th {\n",
       "        text-align: right;\n",
       "    }\n",
       "</style>\n",
       "<table border=\"1\" class=\"dataframe\">\n",
       "  <thead>\n",
       "    <tr style=\"text-align: right;\">\n",
       "      <th></th>\n",
       "      <th>Date</th>\n",
       "      <th>CBA</th>\n",
       "      <th>MQG</th>\n",
       "    </tr>\n",
       "    <tr>\n",
       "      <th>Date</th>\n",
       "      <th></th>\n",
       "      <th></th>\n",
       "      <th></th>\n",
       "    </tr>\n",
       "  </thead>\n",
       "  <tbody>\n",
       "    <tr>\n",
       "      <th>2013-01-02</th>\n",
       "      <td>2/1/2013</td>\n",
       "      <td>73.134</td>\n",
       "      <td>38.539</td>\n",
       "    </tr>\n",
       "    <tr>\n",
       "      <th>2013-01-03</th>\n",
       "      <td>3/1/2013</td>\n",
       "      <td>72.636</td>\n",
       "      <td>37.851</td>\n",
       "    </tr>\n",
       "    <tr>\n",
       "      <th>2013-01-04</th>\n",
       "      <td>4/1/2013</td>\n",
       "      <td>72.188</td>\n",
       "      <td>38.235</td>\n",
       "    </tr>\n",
       "    <tr>\n",
       "      <th>2013-01-07</th>\n",
       "      <td>7/1/2013</td>\n",
       "      <td>70.754</td>\n",
       "      <td>42.394</td>\n",
       "    </tr>\n",
       "    <tr>\n",
       "      <th>2013-01-08</th>\n",
       "      <td>8/1/2013</td>\n",
       "      <td>71.362</td>\n",
       "      <td>43.368</td>\n",
       "    </tr>\n",
       "  </tbody>\n",
       "</table>\n",
       "</div>"
      ],
      "text/plain": [
       "                Date     CBA     MQG\n",
       "Date                                \n",
       "2013-01-02  2/1/2013  73.134  38.539\n",
       "2013-01-03  3/1/2013  72.636  37.851\n",
       "2013-01-04  4/1/2013  72.188  38.235\n",
       "2013-01-07  7/1/2013  70.754  42.394\n",
       "2013-01-08  8/1/2013  71.362  43.368"
      ]
     },
     "execution_count": 111,
     "metadata": {},
     "output_type": "execute_result"
    }
   ],
   "source": [
    "# Load data set\n",
    "df = pd.read_csv(\"FinDataSet-1.csv\")\n",
    "df.index = pd.to_datetime(df[\"Date\"], format=\"%d/%m/%Y\")\n",
    "df.head()"
   ]
  },
  {
   "cell_type": "code",
   "execution_count": 112,
   "id": "c9ca4f09-727b-4d9e-8f71-6c8db16afa2f",
   "metadata": {},
   "outputs": [],
   "source": [
    "# Current values of financial variables\n",
    "current_values = df.tail(1).to_numpy()\n",
    "CBA_price = current_values[0,1]\n",
    "MQG_price = current_values[0,1]"
   ]
  },
  {
   "cell_type": "code",
   "execution_count": 113,
   "id": "a3ace45a-fa63-42ed-aa15-0ec9a5294327",
   "metadata": {},
   "outputs": [
    {
     "data": {
      "text/html": [
       "<div>\n",
       "<style scoped>\n",
       "    .dataframe tbody tr th:only-of-type {\n",
       "        vertical-align: middle;\n",
       "    }\n",
       "\n",
       "    .dataframe tbody tr th {\n",
       "        vertical-align: top;\n",
       "    }\n",
       "\n",
       "    .dataframe thead th {\n",
       "        text-align: right;\n",
       "    }\n",
       "</style>\n",
       "<table border=\"1\" class=\"dataframe\">\n",
       "  <thead>\n",
       "    <tr style=\"text-align: right;\">\n",
       "      <th></th>\n",
       "      <th>CBA</th>\n",
       "      <th>MQG</th>\n",
       "    </tr>\n",
       "    <tr>\n",
       "      <th>Date</th>\n",
       "      <th></th>\n",
       "      <th></th>\n",
       "    </tr>\n",
       "  </thead>\n",
       "  <tbody>\n",
       "    <tr>\n",
       "      <th>2013-01-03</th>\n",
       "      <td>-0.006833</td>\n",
       "      <td>-0.018013</td>\n",
       "    </tr>\n",
       "    <tr>\n",
       "      <th>2013-01-04</th>\n",
       "      <td>-0.006187</td>\n",
       "      <td>0.010094</td>\n",
       "    </tr>\n",
       "    <tr>\n",
       "      <th>2013-01-07</th>\n",
       "      <td>-0.020065</td>\n",
       "      <td>0.103256</td>\n",
       "    </tr>\n",
       "    <tr>\n",
       "      <th>2013-01-08</th>\n",
       "      <td>0.008556</td>\n",
       "      <td>0.022715</td>\n",
       "    </tr>\n",
       "    <tr>\n",
       "      <th>2013-01-09</th>\n",
       "      <td>-0.019299</td>\n",
       "      <td>0.011486</td>\n",
       "    </tr>\n",
       "  </tbody>\n",
       "</table>\n",
       "</div>"
      ],
      "text/plain": [
       "                 CBA       MQG\n",
       "Date                          \n",
       "2013-01-03 -0.006833 -0.018013\n",
       "2013-01-04 -0.006187  0.010094\n",
       "2013-01-07 -0.020065  0.103256\n",
       "2013-01-08  0.008556  0.022715\n",
       "2013-01-09 -0.019299  0.011486"
      ]
     },
     "execution_count": 113,
     "metadata": {},
     "output_type": "execute_result"
    }
   ],
   "source": [
    "# Drop other columns\n",
    "df = df.drop([\"Date\"], axis=1)\n",
    "\n",
    "# Calculate the daily log-return:\n",
    "for col in df.columns.values:\n",
    "    df.loc[:,col] = np.log(df.loc[:,col]) - np.log(df.loc[:,col].shift(1))\n",
    "\n",
    "df = df.dropna()\n",
    "df.head()"
   ]
  },
  {
   "cell_type": "code",
   "execution_count": 114,
   "id": "23ceae77-327a-4a0a-afde-502d2aa6d31f",
   "metadata": {},
   "outputs": [],
   "source": [
    "# Covariance matrix of (daily) log returns\n",
    "daily_log_ret_cov = np.cov(df, rowvar = False)\n",
    "daily_log_ret_cov\n",
    "\n",
    "CBA_ann_vol = np.sqrt(daily_log_ret_cov[0,0] * 250)\n",
    "MQG_ann_vol = np.sqrt(daily_log_ret_cov[1,1] * 250)"
   ]
  },
  {
   "cell_type": "markdown",
   "id": "fbd45cab-2040-4647-999b-3f7d56d1352f",
   "metadata": {},
   "source": [
    "## Portfolio Value\n",
    "\n",
    "### The entire portfolio value:\n",
    "\n",
    "$$ V_t = V_{\\text{CBA},t} + V_{\\text{MQG},t} $$\n",
    "\n",
    "Where each position value as follows:\n",
    "$$\\begin{align*}\n",
    "V_{\\text{CBA}, t} &= V_{\\text{call}, 80} \\left( t, S_{CBA,t}, r_t^{(6m)} \\right) + V_{\\text{call}, 110} \\left( t, S_{CBA,t}, r_t^{(6m)} \\right) - 2 \\times V_{\\text{call}, 100} \\left( t, S_{CBA,t}, r_t^{(6m)} \\right) \\\\[5pt]\n",
    "V_{\\text{MQG}, t} &= V_{\\text{put}, 150} \\left( t, S_{MQG,t}, r_t^{(6m)} \\right) + V_{\\text{call}, 220} \\left( t, S_{MQG,t}, r_t^{(6m)} \\right)\n",
    "\\end{align*}$$"
   ]
  },
  {
   "cell_type": "markdown",
   "id": "04e91e79-b4d0-4bba-863c-ecaa5b696940",
   "metadata": {},
   "source": [
    "## 1. Use the Black-Scholes-Merton formula to determine the mark-to-market value"
   ]
  },
  {
   "cell_type": "code",
   "execution_count": 115,
   "id": "a1d0f4b5-1082-4202-b56b-3b8630e79d66",
   "metadata": {},
   "outputs": [],
   "source": [
    "# Pricing function for European calls and puts\n",
    "def BSprice(spot_price, strike_price, time_to_maturity, risk_free_rate, dividend_yield, volatility, option_type):\n",
    "    \n",
    "    # Use mathematical notation for function inputs\n",
    "    s = spot_price\n",
    "    K = strike_price\n",
    "    tau = time_to_maturity # (T-t) in notes\n",
    "    r = risk_free_rate\n",
    "    q = dividend_yield\n",
    "    sigma = volatility\n",
    "    \n",
    "    # Calculate d1 and d2\n",
    "    d1 = (np.log(s / K) + (r - q + 0.5 * sigma ** 2) * tau) / (sigma * np.sqrt(tau))\n",
    "    d2 = d1 - sigma * np.sqrt(tau)\n",
    "    \n",
    "    # Calculate option prices\n",
    "    if option_type == 'call':\n",
    "        price = (np.exp(-q * tau) * s * sp.stats.norm.cdf(d1, 0.0, 1.0) \\\n",
    "                 - np.exp(-r * tau) * K * sp.stats.norm.cdf(d2, 0.0, 1.0))\n",
    "        \n",
    "    if option_type == 'put':\n",
    "        price = (np.exp(-r * tau) * K * sp.stats.norm.cdf(-d2, 0.0, 1.0) \\\n",
    "                 - np.exp(-q * tau) * s * sp.stats.norm.cdf(-d1, 0.0, 1.0))\n",
    "        \n",
    "    return price"
   ]
  },
  {
   "cell_type": "code",
   "execution_count": 116,
   "id": "0854e30a-e3e8-463b-b896-646e2fef76a5",
   "metadata": {},
   "outputs": [],
   "source": [
    "# Assign values:\n",
    "rfr = 0.0267\n",
    "tau = 0.5\n",
    "dy = 0\n",
    "\n",
    "# Butterfly spread CBA:\n",
    "CBA_l_call_strike_80 = 80\n",
    "CBA_l_call_strike_110 = 110\n",
    "CBA_s_call_strike_100_x2 = 100\n",
    "\n",
    "# Strangle MQG:\n",
    "MQG_l_put_strike_150 = 150\n",
    "MQG_l_call_strike_220 = 220\n",
    "\n",
    "# Calculate the mark-to-market value of the butterfly spread:\n",
    "bs_CBA_long_1 = BSprice(CBA_price, CBA_l_call_strike_80, time_to_maturity, risk_free_rate, dividend_yield, CBA_ann_vol, \"call\")\n",
    "bs_CBA_long_2 = BSprice(CBA_price, CBA_l_call_strike_110, time_to_maturity, risk_free_rate, dividend_yield, CBA_ann_vol, \"call\")\n",
    "bs_CBA_short_3 = - 2 * BSprice(CBA_price, CBA_s_call_strike_100_x2, time_to_maturity, risk_free_rate, dividend_yield, CBA_ann_vol, \"call\")\n",
    "bs_value = bs_CBA_long_1 + bs_CBA_long_2 + bs_CBA_short_3\n",
    "\n",
    "# Calculate the mark-to-market value of the strangle:\n",
    "st_MQG_long_1 = BSprice(MQG_price, MQG_l_put_strike_150, time_to_maturity, risk_free_rate, dividend_yield, MQG_ann_vol, \"put\")\n",
    "st_MQG_long_2 = BSprice(MQG_price, MQG_l_call_strike_220, time_to_maturity, risk_free_rate, dividend_yield, MQG_ann_vol, \"call\")\n",
    "st_value = st_MQG_long_1 + st_MQG_long_2"
   ]
  },
  {
   "cell_type": "code",
   "execution_count": 117,
   "id": "960801ae-ce53-4393-8707-e292ca636f56",
   "metadata": {},
   "outputs": [
    {
     "name": "stdout",
     "output_type": "stream",
     "text": [
      "57.80795551621756\n",
      "50.10402500659926\n",
      "-104.87192106017369\n",
      "3.0400594626431285\n",
      "47.383777660490765\n",
      "7.894402875922076e-05\n",
      "47.38385660451952\n"
     ]
    }
   ],
   "source": [
    "print(bs_CBA_long_1)\n",
    "print(bs_CBA_long_2)\n",
    "print(bs_CBA_short_3)\n",
    "print(bs_value)\n",
    "\n",
    "print(st_MQG_long_1)\n",
    "print(st_MQG_long_2)\n",
    "print(st_value)"
   ]
  },
  {
   "cell_type": "markdown",
   "id": "836512f7-1a9f-40fc-ae6b-f91beb62041a",
   "metadata": {},
   "source": [
    "## 2. Implement meethods from (M1) to (M5)"
   ]
  },
  {
   "cell_type": "markdown",
   "id": "1d5c03b9-42aa-4ea4-9ef0-a4831c57f520",
   "metadata": {},
   "source": [
    "### Risk Factor Mapping\n",
    "\n",
    "We introduce the following notation:\n",
    "\n",
    "$$\n",
    "\\mathbf{Z}_t := \\begin{bmatrix} Z_{1,t} \\\\ Z_{2,t} \\end{bmatrix} = \\begin{bmatrix} \\ln S_{CBA,t} \\\\ \\ln S_{MQG,t}  \\end{bmatrix}, \\quad \\mathbf{X}_{t+1} := \\mathbf{Z}_{t+1} - \\mathbf{Z}_t = \\begin{bmatrix} \\ln S_{CBA,t+1} - \\ln S_{CBA,t} \\\\ \\ln S_{MQG,t+1} - \\ln S_{MQG,t} \\end{bmatrix}\n",
    "$$\n",
    "\n",
    "A mapping, therefore, of the risk factor vector Zt to the current portfolio value is\n",
    "$$\\begin{align*}\n",
    "V_t &= g(t, \\mathbf{Z}_t) \\\\[5pt]\n",
    "&:= V_{\\text{CBA}} \\left( t, e^{Z_{1,t}} \\right) + V_{\\text{MQG}} \\left( t, e^{Z_{2,t}} \\right).\n",
    "\\end{align*}$$"
   ]
  },
  {
   "cell_type": "markdown",
   "id": "90b04d76-38d2-42df-a8ac-4594bc7f5aca",
   "metadata": {},
   "source": [
    "### 2.1. (M1) Analytical delta-normal approach"
   ]
  },
  {
   "cell_type": "code",
   "execution_count": 131,
   "id": "65e22e9e-3937-4bb5-9bbd-3979872add9a",
   "metadata": {},
   "outputs": [],
   "source": [
    "# Create dataframe to store value\n",
    "portfolio_risk_measures = pd.DataFrame(columns=['method', 'type', 'conf_level', 'risk_measure'])\n",
    "\n",
    "# Confidence level\n",
    "conf_level = [0.9, 0.95, 0.99]"
   ]
  },
  {
   "cell_type": "code",
   "execution_count": 119,
   "id": "46f000e2-f6e5-40fc-bf88-d6db39ce0329",
   "metadata": {},
   "outputs": [],
   "source": [
    "# Function to calculate option delta under the Black-Scholes-Merton model\n",
    "def BSdelta(spot_price, strike_price, time_to_maturity, risk_free_rate, dividend_yield, volatility, option_type):\n",
    "    \n",
    "    # Use mathematical notation for function inputs\n",
    "    s = spot_price\n",
    "    K = strike_price\n",
    "    tau = time_to_maturity # (T-t) in notes\n",
    "    r = risk_free_rate\n",
    "    q = dividend_yield\n",
    "    sigma = volatility\n",
    "    \n",
    "    # Calculate d1 and d2\n",
    "    d1 = (np.log(s / K) + (r - q + 0.5 * sigma ** 2) * tau) / (sigma * np.sqrt(tau))\n",
    "    \n",
    "    # Calculate option delta\n",
    "    if option_type == 'call':\n",
    "        value = sp.stats.norm.cdf(d1, 0.0, 1.0)\n",
    "    \n",
    "    if option_type == 'put':\n",
    "        value = sp.stats.norm.cdf(d1, 0.0, 1.0) - 1\n",
    "    \n",
    "    return value    "
   ]
  },
  {
   "cell_type": "code",
   "execution_count": 120,
   "id": "5dae1b89-f61f-4dbf-a7d6-a9c96316664b",
   "metadata": {},
   "outputs": [],
   "source": [
    "# Call Option Risk Factor Exposures\n",
    "# - Call delta\n",
    "call_delta_CBA_80 = BSdelta(spot_price = CBA_price, strike_price = CBA_l_call_strike_80, time_to_maturity = tau, \n",
    "                     risk_free_rate = rfr, dividend_yield = dy, volatility = CBA_ann_vol, option_type = 'call')\n",
    "call_delta_CBA_110 = BSdelta(spot_price = CBA_price, strike_price = CBA_l_call_strike_110, time_to_maturity = tau, \n",
    "                     risk_free_rate = rfr, dividend_yield = dy, volatility = CBA_ann_vol, option_type = 'call')\n",
    "call_delta_CBA_100_x2 = BSdelta(spot_price = CBA_price, strike_price = CBA_s_call_strike_100_x2, time_to_maturity = tau, \n",
    "                     risk_free_rate = rfr, dividend_yield = dy, volatility = CBA_ann_vol, option_type = 'call')\n",
    "\n",
    "call_delta_MQG_220 = BSdelta(spot_price = MQG_price, strike_price = MQG_l_call_strike_220, time_to_maturity = tau, \n",
    "                     risk_free_rate = rfr, dividend_yield = dy, volatility = MQG_ann_vol, option_type = 'call')\n",
    "\n",
    "# Put Option Risk Factor Exposures\n",
    "# - Put delta\n",
    "put_delta_MQG_150 = BSdelta(spot_price = MQG_price, strike_price = MQG_l_call_strike_220, time_to_maturity = tau, \n",
    "                     risk_free_rate = rfr, dividend_yield = dy, volatility = MQG_ann_vol, option_type = 'put')\n",
    "\n",
    "# CBA Risk Factor Exposures\n",
    "CBA_exposure1 = (call_delta_CBA_80 + call_delta_CBA_110 - 2*call_delta_CBA_100_x2) * CBA_price\n",
    "CBA_exposure2 = 0\n",
    "CBA_exposure = np.array([CBA_exposure1, CBA_exposure2])\n",
    "\n",
    "# MQG Risk Factor Exposures\n",
    "MQG_exposure1 = 0\n",
    "MQG_exposure2 = (call_delta_MQG_220 - put_delta_MQG_150) * MQG_price\n",
    "MQG_exposure = np.array([MQG_exposure1, MQG_exposure2])"
   ]
  },
  {
   "cell_type": "code",
   "execution_count": 121,
   "id": "ab49940d-7b4d-40bc-9d6b-171a6cbe1009",
   "metadata": {},
   "outputs": [],
   "source": [
    "# Mean log-returns\n",
    "daily_log_ret_mean = np.mean(df, axis = 0)\n",
    "daily_log_ret_mean\n",
    "\n",
    "# 10-day log-returns mean\n",
    "log_ret_mean_10days = daily_log_ret_mean * 10"
   ]
  },
  {
   "cell_type": "code",
   "execution_count": 122,
   "id": "19e82b17-f2c7-44c9-8d41-c58f845a0f5c",
   "metadata": {},
   "outputs": [],
   "source": [
    "# 1-day volatility\n",
    "CBA_1day_vol = np.sqrt(daily_log_ret_cov[0,0])\n",
    "MQG_1day_vol = np.sqrt(daily_log_ret_cov[1,1])\n",
    "\n",
    "# 10-day volatility\n",
    "log_ret_cov_10days = daily_log_ret_cov * np.sqrt(10)\n",
    "CBA_10days_vol = np.sqrt(daily_log_ret_cov[0,0] * 10)\n",
    "MQG_10days_vol = np.sqrt(daily_log_ret_cov[1,1] * 10)"
   ]
  },
  {
   "cell_type": "code",
   "execution_count": 123,
   "id": "b6d5e7f8-a0fe-436e-9688-978abcd02b97",
   "metadata": {},
   "outputs": [],
   "source": [
    "# Functions for VaR and ES under the variance-covariance approach\n",
    "def VaR_ES_vcv(constant_loss, risk_exposure, risk_factor_mean, risk_factor_cov_mat, conf_level):\n",
    "\n",
    "    # Shorthand notation for inputs\n",
    "    c = constant_loss\n",
    "    b = risk_exposure\n",
    "    mu = risk_factor_mean\n",
    "    Sigma = risk_factor_cov_mat\n",
    "    alpha = conf_level\n",
    "\n",
    "    # Compute mean and variance of loss\n",
    "    loss_mean = -c - np.transpose(b) @ mu\n",
    "    loss_var = np.transpose(b) @ Sigma @ b\n",
    "\n",
    "    # Compute VaR\n",
    "    VaR = loss_mean + np.sqrt(loss_var) * stats.norm.ppf(alpha, loc = 0.0, scale = 1.0)\n",
    "    VaR = max(VaR, 0)\n",
    "\n",
    "    # Compute ES\n",
    "    ES = loss_mean + np.sqrt(loss_var) * stats.norm.pdf(stats.norm.ppf(alpha, loc = 0.0, scale = 1.0), loc = 0.0, scale = 1.0) / (1 - alpha)\n",
    "    ES = max(ES, 0)\n",
    "\n",
    "    # Return output\n",
    "    return np.array([VaR, ES])"
   ]
  },
  {
   "cell_type": "code",
   "execution_count": 132,
   "id": "018bff92-d334-4b22-9969-1660bca04040",
   "metadata": {},
   "outputs": [
    {
     "name": "stdout",
     "output_type": "stream",
     "text": [
      "  method    type  conf_level                              risk_measure\n",
      "0     M1   1-day        0.90   [2.1169787242342273, 2.923032381427151]\n",
      "1     M1   1-day        0.95  [2.7355281834212257, 3.4469652976184495]\n",
      "2     M1   1-day        0.99   [3.8958240990122137, 4.472769890158901]\n",
      "3     M1  10-day        0.90   [3.2304923755592996, 4.663880997532049]\n",
      "4     M1  10-day        0.95     [4.33044614292225, 5.595580114636682]\n",
      "5     M1  10-day        0.99    [6.393776479169965, 7.419747300274736]\n"
     ]
    },
    {
     "name": "stderr",
     "output_type": "stream",
     "text": [
      "/var/folders/8v/_wg4l14d02v5d6jkm_cpp_6w0000gn/T/ipykernel_3087/3052406946.py:12: FutureWarning: The behavior of DataFrame concatenation with empty or all-NA entries is deprecated. In a future version, this will no longer exclude empty or all-NA columns when determining the result dtypes. To retain the old behavior, exclude the relevant entries before the concat operation.\n",
      "  portfolio_risk_measures = pd.concat([portfolio_risk_measures, pd.DataFrame(new_rows)], ignore_index=True)\n"
     ]
    }
   ],
   "source": [
    "# Portfolio Risk Measures\n",
    "portfolio_exposure = CBA_exposure + MQG_exposure\n",
    "\n",
    "# Compute 1-day VaR and ES\n",
    "new_rows = []\n",
    "for i in conf_level:\n",
    "    risk_measure = VaR_ES_vcv(0, portfolio_exposure, daily_log_ret_mean, daily_log_ret_cov, i)\n",
    "    new_row = {'method': 'M1', 'type': '1-day', 'conf_level': i, 'risk_measure': risk_measure}\n",
    "    new_rows.append(new_row)\n",
    "\n",
    "# Add new rows to the DataFrame using pd.concat()\n",
    "portfolio_risk_measures = pd.concat([portfolio_risk_measures, pd.DataFrame(new_rows)], ignore_index=True)\n",
    "\n",
    "# Compute 10-day VaR and ES\n",
    "new_rows = []\n",
    "for i in conf_level:\n",
    "    risk_measure = VaR_ES_vcv(0, portfolio_exposure, log_ret_mean_10days, log_ret_cov_10days, i)\n",
    "    new_row = {'method': 'M1', 'type': '10-day', 'conf_level': i, 'risk_measure': risk_measure}\n",
    "    new_rows.append(new_row)\n",
    "\n",
    "# Add new 10-day rows to the DataFrame\n",
    "portfolio_risk_measures = pd.concat([portfolio_risk_measures, pd.DataFrame(new_rows)], ignore_index=True)\n",
    "\n",
    "print(portfolio_risk_measures)"
   ]
  },
  {
   "cell_type": "markdown",
   "id": "ba24007a-04d9-4779-9026-b920e9c132a6",
   "metadata": {},
   "source": [
    "### 2.2. (M2) Historical simulation approach with a delta-gamma approximation"
   ]
  },
  {
   "cell_type": "code",
   "execution_count": null,
   "id": "59f93802-dc7e-4e71-8e65-b3c9085a4c42",
   "metadata": {},
   "outputs": [],
   "source": [
    "# Function to calculate option gamma under the Black-Scholes-Merton model\n",
    "def BSgamma(spot_price, strike_price, time_to_maturity, risk_free_rate, dividend_yield, volatility):\n",
    "    \n",
    "    # Use mathematical notation for function inputs\n",
    "    s = spot_price\n",
    "    K = strike_price\n",
    "    tau = time_to_maturity # (T-t) in notes\n",
    "    r = risk_free_rate\n",
    "    q = dividend_yield\n",
    "    sigma = volatility\n",
    "    \n",
    "    # Compute option gamma (same for calls and puts)\n",
    "    d1 = (np.log(s / K) + (r - q + 0.5 * sigma ** 2) * tau) / (sigma * np.sqrt(tau))\n",
    "    d2 = d1 - sigma * np.sqrt(tau)\n",
    "    \n",
    "    value = sp.stats.norm.pdf(d1, 0.0, 1.0) / (s * sigma * np.sqrt(tau))\n",
    "    \n",
    "    return value"
   ]
  },
  {
   "cell_type": "code",
   "execution_count": null,
   "id": "ef333324-83bd-4d19-8a72-9cc432648eb5",
   "metadata": {},
   "outputs": [],
   "source": []
  }
 ],
 "metadata": {
  "kernelspec": {
   "display_name": "Python 3 (ipykernel)",
   "language": "python",
   "name": "python3"
  },
  "language_info": {
   "codemirror_mode": {
    "name": "ipython",
    "version": 3
   },
   "file_extension": ".py",
   "mimetype": "text/x-python",
   "name": "python",
   "nbconvert_exporter": "python",
   "pygments_lexer": "ipython3",
   "version": "3.9.6"
  }
 },
 "nbformat": 4,
 "nbformat_minor": 5
}
